{
  "nbformat": 4,
  "nbformat_minor": 0,
  "metadata": {
    "colab": {
      "provenance": []
    },
    "kernelspec": {
      "name": "python3",
      "display_name": "Python 3"
    },
    "language_info": {
      "name": "python"
    }
  },
  "cells": [
    {
      "cell_type": "code",
      "source": [
        "!pip install yahoo_fin"
      ],
      "metadata": {
        "colab": {
          "base_uri": "https://localhost:8080/"
        },
        "id": "ixlFmSmGvB67",
        "outputId": "ebcc0a4a-713a-4c95-873f-c5b8a35de3f2"
      },
      "execution_count": 2,
      "outputs": [
        {
          "output_type": "stream",
          "name": "stdout",
          "text": [
            "Looking in indexes: https://pypi.org/simple, https://us-python.pkg.dev/colab-wheels/public/simple/\n",
            "Requirement already satisfied: yahoo_fin in /usr/local/lib/python3.10/dist-packages (0.8.9.1)\n",
            "Requirement already satisfied: requests in /usr/local/lib/python3.10/dist-packages (from yahoo_fin) (2.27.1)\n",
            "Requirement already satisfied: pandas in /usr/local/lib/python3.10/dist-packages (from yahoo_fin) (1.5.3)\n",
            "Requirement already satisfied: feedparser in /usr/local/lib/python3.10/dist-packages (from yahoo_fin) (6.0.10)\n",
            "Requirement already satisfied: requests-html in /usr/local/lib/python3.10/dist-packages (from yahoo_fin) (0.10.0)\n",
            "Requirement already satisfied: sgmllib3k in /usr/local/lib/python3.10/dist-packages (from feedparser->yahoo_fin) (1.0.0)\n",
            "Requirement already satisfied: python-dateutil>=2.8.1 in /usr/local/lib/python3.10/dist-packages (from pandas->yahoo_fin) (2.8.2)\n",
            "Requirement already satisfied: numpy>=1.21.0 in /usr/local/lib/python3.10/dist-packages (from pandas->yahoo_fin) (1.22.4)\n",
            "Requirement already satisfied: pytz>=2020.1 in /usr/local/lib/python3.10/dist-packages (from pandas->yahoo_fin) (2022.7.1)\n",
            "Requirement already satisfied: certifi>=2017.4.17 in /usr/local/lib/python3.10/dist-packages (from requests->yahoo_fin) (2022.12.7)\n",
            "Requirement already satisfied: idna<4,>=2.5 in /usr/local/lib/python3.10/dist-packages (from requests->yahoo_fin) (3.4)\n",
            "Requirement already satisfied: urllib3<1.27,>=1.21.1 in /usr/local/lib/python3.10/dist-packages (from requests->yahoo_fin) (1.26.15)\n",
            "Requirement already satisfied: charset-normalizer~=2.0.0 in /usr/local/lib/python3.10/dist-packages (from requests->yahoo_fin) (2.0.12)\n",
            "Requirement already satisfied: pyquery in /usr/local/lib/python3.10/dist-packages (from requests-html->yahoo_fin) (2.0.0)\n",
            "Requirement already satisfied: parse in /usr/local/lib/python3.10/dist-packages (from requests-html->yahoo_fin) (1.19.0)\n",
            "Requirement already satisfied: w3lib in /usr/local/lib/python3.10/dist-packages (from requests-html->yahoo_fin) (2.1.1)\n",
            "Requirement already satisfied: pyppeteer>=0.0.14 in /usr/local/lib/python3.10/dist-packages (from requests-html->yahoo_fin) (1.0.2)\n",
            "Requirement already satisfied: bs4 in /usr/local/lib/python3.10/dist-packages (from requests-html->yahoo_fin) (0.0.1)\n",
            "Requirement already satisfied: fake-useragent in /usr/local/lib/python3.10/dist-packages (from requests-html->yahoo_fin) (1.1.3)\n",
            "Requirement already satisfied: pyee<9.0.0,>=8.1.0 in /usr/local/lib/python3.10/dist-packages (from pyppeteer>=0.0.14->requests-html->yahoo_fin) (8.2.2)\n",
            "Requirement already satisfied: importlib-metadata>=1.4 in /usr/local/lib/python3.10/dist-packages (from pyppeteer>=0.0.14->requests-html->yahoo_fin) (6.6.0)\n",
            "Requirement already satisfied: appdirs<2.0.0,>=1.4.3 in /usr/local/lib/python3.10/dist-packages (from pyppeteer>=0.0.14->requests-html->yahoo_fin) (1.4.4)\n",
            "Requirement already satisfied: tqdm<5.0.0,>=4.42.1 in /usr/local/lib/python3.10/dist-packages (from pyppeteer>=0.0.14->requests-html->yahoo_fin) (4.65.0)\n",
            "Requirement already satisfied: websockets<11.0,>=10.0 in /usr/local/lib/python3.10/dist-packages (from pyppeteer>=0.0.14->requests-html->yahoo_fin) (10.4)\n",
            "Requirement already satisfied: six>=1.5 in /usr/local/lib/python3.10/dist-packages (from python-dateutil>=2.8.1->pandas->yahoo_fin) (1.16.0)\n",
            "Requirement already satisfied: beautifulsoup4 in /usr/local/lib/python3.10/dist-packages (from bs4->requests-html->yahoo_fin) (4.11.2)\n",
            "Requirement already satisfied: cssselect>=1.2.0 in /usr/local/lib/python3.10/dist-packages (from pyquery->requests-html->yahoo_fin) (1.2.0)\n",
            "Requirement already satisfied: lxml>=2.1 in /usr/local/lib/python3.10/dist-packages (from pyquery->requests-html->yahoo_fin) (4.9.2)\n",
            "Requirement already satisfied: zipp>=0.5 in /usr/local/lib/python3.10/dist-packages (from importlib-metadata>=1.4->pyppeteer>=0.0.14->requests-html->yahoo_fin) (3.15.0)\n",
            "Requirement already satisfied: soupsieve>1.2 in /usr/local/lib/python3.10/dist-packages (from beautifulsoup4->bs4->requests-html->yahoo_fin) (2.4.1)\n"
          ]
        }
      ]
    },
    {
      "cell_type": "code",
      "source": [
        "from yahoo_fin import stock_info as si\n",
        "from datetime import datetime, timedelta\n",
        "start_date = datetime(2014, 12, 29)\n",
        "end_date = datetime(2018, 12, 28)\n",
        "\n",
        "nifty50_data = si.get_data('^NSEI', start_date, end_date)"
      ],
      "metadata": {
        "id": "lVEjJIcAvLfu"
      },
      "execution_count": 3,
      "outputs": []
    },
    {
      "cell_type": "code",
      "source": [
        "nifty50_data"
      ],
      "metadata": {
        "colab": {
          "base_uri": "https://localhost:8080/",
          "height": 642
        },
        "id": "ejt8_gEivTX0",
        "outputId": "75acc9d4-1f21-4cd2-d212-ef19540600e5"
      },
      "execution_count": 4,
      "outputs": [
        {
          "output_type": "execute_result",
          "data": {
            "text/plain": [
              "                    open          high           low         close  \\\n",
              "2014-12-29   8214.700195   8279.150391   8214.700195   8246.299805   \n",
              "2014-12-30   8260.299805   8268.250000   8220.549805   8248.250000   \n",
              "2014-12-31   8243.900391   8291.000000   8243.750000   8282.700195   \n",
              "2015-01-01           NaN           NaN           NaN           NaN   \n",
              "2015-01-02   8288.700195   8410.599609   8288.700195   8395.450195   \n",
              "...                  ...           ...           ...           ...   \n",
              "2018-12-20  10885.200195  10962.549805  10880.049805  10951.700195   \n",
              "2018-12-21  10944.250000  10963.650391  10738.650391  10754.000000   \n",
              "2018-12-24  10780.900391  10782.299805  10649.250000  10663.500000   \n",
              "2018-12-26  10635.450195  10747.500000  10534.549805  10729.849609   \n",
              "2018-12-27  10817.900391  10834.200195  10764.450195  10779.799805   \n",
              "\n",
              "                adjclose    volume ticker  \n",
              "2014-12-29   8246.299805   82100.0  ^NSEI  \n",
              "2014-12-30   8248.250000   77700.0  ^NSEI  \n",
              "2014-12-31   8282.700195   84500.0  ^NSEI  \n",
              "2015-01-01           NaN       NaN  ^NSEI  \n",
              "2015-01-02   8395.450195  101900.0  ^NSEI  \n",
              "...                  ...       ...    ...  \n",
              "2018-12-20  10951.700195  318900.0  ^NSEI  \n",
              "2018-12-21  10754.000000  377500.0  ^NSEI  \n",
              "2018-12-24  10663.500000  223400.0  ^NSEI  \n",
              "2018-12-26  10729.849609  263700.0  ^NSEI  \n",
              "2018-12-27  10779.799805  456100.0  ^NSEI  \n",
              "\n",
              "[988 rows x 7 columns]"
            ],
            "text/html": [
              "\n",
              "  <div id=\"df-865000ee-8ce3-43cd-aa27-1571bd0bee3a\">\n",
              "    <div class=\"colab-df-container\">\n",
              "      <div>\n",
              "<style scoped>\n",
              "    .dataframe tbody tr th:only-of-type {\n",
              "        vertical-align: middle;\n",
              "    }\n",
              "\n",
              "    .dataframe tbody tr th {\n",
              "        vertical-align: top;\n",
              "    }\n",
              "\n",
              "    .dataframe thead th {\n",
              "        text-align: right;\n",
              "    }\n",
              "</style>\n",
              "<table border=\"1\" class=\"dataframe\">\n",
              "  <thead>\n",
              "    <tr style=\"text-align: right;\">\n",
              "      <th></th>\n",
              "      <th>open</th>\n",
              "      <th>high</th>\n",
              "      <th>low</th>\n",
              "      <th>close</th>\n",
              "      <th>adjclose</th>\n",
              "      <th>volume</th>\n",
              "      <th>ticker</th>\n",
              "    </tr>\n",
              "  </thead>\n",
              "  <tbody>\n",
              "    <tr>\n",
              "      <th>2014-12-29</th>\n",
              "      <td>8214.700195</td>\n",
              "      <td>8279.150391</td>\n",
              "      <td>8214.700195</td>\n",
              "      <td>8246.299805</td>\n",
              "      <td>8246.299805</td>\n",
              "      <td>82100.0</td>\n",
              "      <td>^NSEI</td>\n",
              "    </tr>\n",
              "    <tr>\n",
              "      <th>2014-12-30</th>\n",
              "      <td>8260.299805</td>\n",
              "      <td>8268.250000</td>\n",
              "      <td>8220.549805</td>\n",
              "      <td>8248.250000</td>\n",
              "      <td>8248.250000</td>\n",
              "      <td>77700.0</td>\n",
              "      <td>^NSEI</td>\n",
              "    </tr>\n",
              "    <tr>\n",
              "      <th>2014-12-31</th>\n",
              "      <td>8243.900391</td>\n",
              "      <td>8291.000000</td>\n",
              "      <td>8243.750000</td>\n",
              "      <td>8282.700195</td>\n",
              "      <td>8282.700195</td>\n",
              "      <td>84500.0</td>\n",
              "      <td>^NSEI</td>\n",
              "    </tr>\n",
              "    <tr>\n",
              "      <th>2015-01-01</th>\n",
              "      <td>NaN</td>\n",
              "      <td>NaN</td>\n",
              "      <td>NaN</td>\n",
              "      <td>NaN</td>\n",
              "      <td>NaN</td>\n",
              "      <td>NaN</td>\n",
              "      <td>^NSEI</td>\n",
              "    </tr>\n",
              "    <tr>\n",
              "      <th>2015-01-02</th>\n",
              "      <td>8288.700195</td>\n",
              "      <td>8410.599609</td>\n",
              "      <td>8288.700195</td>\n",
              "      <td>8395.450195</td>\n",
              "      <td>8395.450195</td>\n",
              "      <td>101900.0</td>\n",
              "      <td>^NSEI</td>\n",
              "    </tr>\n",
              "    <tr>\n",
              "      <th>...</th>\n",
              "      <td>...</td>\n",
              "      <td>...</td>\n",
              "      <td>...</td>\n",
              "      <td>...</td>\n",
              "      <td>...</td>\n",
              "      <td>...</td>\n",
              "      <td>...</td>\n",
              "    </tr>\n",
              "    <tr>\n",
              "      <th>2018-12-20</th>\n",
              "      <td>10885.200195</td>\n",
              "      <td>10962.549805</td>\n",
              "      <td>10880.049805</td>\n",
              "      <td>10951.700195</td>\n",
              "      <td>10951.700195</td>\n",
              "      <td>318900.0</td>\n",
              "      <td>^NSEI</td>\n",
              "    </tr>\n",
              "    <tr>\n",
              "      <th>2018-12-21</th>\n",
              "      <td>10944.250000</td>\n",
              "      <td>10963.650391</td>\n",
              "      <td>10738.650391</td>\n",
              "      <td>10754.000000</td>\n",
              "      <td>10754.000000</td>\n",
              "      <td>377500.0</td>\n",
              "      <td>^NSEI</td>\n",
              "    </tr>\n",
              "    <tr>\n",
              "      <th>2018-12-24</th>\n",
              "      <td>10780.900391</td>\n",
              "      <td>10782.299805</td>\n",
              "      <td>10649.250000</td>\n",
              "      <td>10663.500000</td>\n",
              "      <td>10663.500000</td>\n",
              "      <td>223400.0</td>\n",
              "      <td>^NSEI</td>\n",
              "    </tr>\n",
              "    <tr>\n",
              "      <th>2018-12-26</th>\n",
              "      <td>10635.450195</td>\n",
              "      <td>10747.500000</td>\n",
              "      <td>10534.549805</td>\n",
              "      <td>10729.849609</td>\n",
              "      <td>10729.849609</td>\n",
              "      <td>263700.0</td>\n",
              "      <td>^NSEI</td>\n",
              "    </tr>\n",
              "    <tr>\n",
              "      <th>2018-12-27</th>\n",
              "      <td>10817.900391</td>\n",
              "      <td>10834.200195</td>\n",
              "      <td>10764.450195</td>\n",
              "      <td>10779.799805</td>\n",
              "      <td>10779.799805</td>\n",
              "      <td>456100.0</td>\n",
              "      <td>^NSEI</td>\n",
              "    </tr>\n",
              "  </tbody>\n",
              "</table>\n",
              "<p>988 rows × 7 columns</p>\n",
              "</div>\n",
              "      <button class=\"colab-df-convert\" onclick=\"convertToInteractive('df-865000ee-8ce3-43cd-aa27-1571bd0bee3a')\"\n",
              "              title=\"Convert this dataframe to an interactive table.\"\n",
              "              style=\"display:none;\">\n",
              "        \n",
              "  <svg xmlns=\"http://www.w3.org/2000/svg\" height=\"24px\"viewBox=\"0 0 24 24\"\n",
              "       width=\"24px\">\n",
              "    <path d=\"M0 0h24v24H0V0z\" fill=\"none\"/>\n",
              "    <path d=\"M18.56 5.44l.94 2.06.94-2.06 2.06-.94-2.06-.94-.94-2.06-.94 2.06-2.06.94zm-11 1L8.5 8.5l.94-2.06 2.06-.94-2.06-.94L8.5 2.5l-.94 2.06-2.06.94zm10 10l.94 2.06.94-2.06 2.06-.94-2.06-.94-.94-2.06-.94 2.06-2.06.94z\"/><path d=\"M17.41 7.96l-1.37-1.37c-.4-.4-.92-.59-1.43-.59-.52 0-1.04.2-1.43.59L10.3 9.45l-7.72 7.72c-.78.78-.78 2.05 0 2.83L4 21.41c.39.39.9.59 1.41.59.51 0 1.02-.2 1.41-.59l7.78-7.78 2.81-2.81c.8-.78.8-2.07 0-2.86zM5.41 20L4 18.59l7.72-7.72 1.47 1.35L5.41 20z\"/>\n",
              "  </svg>\n",
              "      </button>\n",
              "      \n",
              "  <style>\n",
              "    .colab-df-container {\n",
              "      display:flex;\n",
              "      flex-wrap:wrap;\n",
              "      gap: 12px;\n",
              "    }\n",
              "\n",
              "    .colab-df-convert {\n",
              "      background-color: #E8F0FE;\n",
              "      border: none;\n",
              "      border-radius: 50%;\n",
              "      cursor: pointer;\n",
              "      display: none;\n",
              "      fill: #1967D2;\n",
              "      height: 32px;\n",
              "      padding: 0 0 0 0;\n",
              "      width: 32px;\n",
              "    }\n",
              "\n",
              "    .colab-df-convert:hover {\n",
              "      background-color: #E2EBFA;\n",
              "      box-shadow: 0px 1px 2px rgba(60, 64, 67, 0.3), 0px 1px 3px 1px rgba(60, 64, 67, 0.15);\n",
              "      fill: #174EA6;\n",
              "    }\n",
              "\n",
              "    [theme=dark] .colab-df-convert {\n",
              "      background-color: #3B4455;\n",
              "      fill: #D2E3FC;\n",
              "    }\n",
              "\n",
              "    [theme=dark] .colab-df-convert:hover {\n",
              "      background-color: #434B5C;\n",
              "      box-shadow: 0px 1px 3px 1px rgba(0, 0, 0, 0.15);\n",
              "      filter: drop-shadow(0px 1px 2px rgba(0, 0, 0, 0.3));\n",
              "      fill: #FFFFFF;\n",
              "    }\n",
              "  </style>\n",
              "\n",
              "      <script>\n",
              "        const buttonEl =\n",
              "          document.querySelector('#df-865000ee-8ce3-43cd-aa27-1571bd0bee3a button.colab-df-convert');\n",
              "        buttonEl.style.display =\n",
              "          google.colab.kernel.accessAllowed ? 'block' : 'none';\n",
              "\n",
              "        async function convertToInteractive(key) {\n",
              "          const element = document.querySelector('#df-865000ee-8ce3-43cd-aa27-1571bd0bee3a');\n",
              "          const dataTable =\n",
              "            await google.colab.kernel.invokeFunction('convertToInteractive',\n",
              "                                                     [key], {});\n",
              "          if (!dataTable) return;\n",
              "\n",
              "          const docLinkHtml = 'Like what you see? Visit the ' +\n",
              "            '<a target=\"_blank\" href=https://colab.research.google.com/notebooks/data_table.ipynb>data table notebook</a>'\n",
              "            + ' to learn more about interactive tables.';\n",
              "          element.innerHTML = '';\n",
              "          dataTable['output_type'] = 'display_data';\n",
              "          await google.colab.output.renderOutput(dataTable, element);\n",
              "          const docLink = document.createElement('div');\n",
              "          docLink.innerHTML = docLinkHtml;\n",
              "          element.appendChild(docLink);\n",
              "        }\n",
              "      </script>\n",
              "    </div>\n",
              "  </div>\n",
              "  "
            ]
          },
          "metadata": {},
          "execution_count": 4
        }
      ]
    },
    {
      "cell_type": "code",
      "source": [
        "nifty50_data=nifty50_data.drop(columns=['adjclose','volume','ticker'])\n",
        "nifty50_data=nifty50_data.dropna()"
      ],
      "metadata": {
        "id": "YKK5amOevZsz"
      },
      "execution_count": 5,
      "outputs": []
    },
    {
      "cell_type": "code",
      "source": [
        "nifty50_data"
      ],
      "metadata": {
        "colab": {
          "base_uri": "https://localhost:8080/",
          "height": 423
        },
        "id": "Po9TmD_kvd7M",
        "outputId": "e45b395c-b7ac-484b-c1ba-321b57d01de8"
      },
      "execution_count": 6,
      "outputs": [
        {
          "output_type": "execute_result",
          "data": {
            "text/plain": [
              "                    open          high           low         close\n",
              "2014-12-29   8214.700195   8279.150391   8214.700195   8246.299805\n",
              "2014-12-30   8260.299805   8268.250000   8220.549805   8248.250000\n",
              "2014-12-31   8243.900391   8291.000000   8243.750000   8282.700195\n",
              "2015-01-02   8288.700195   8410.599609   8288.700195   8395.450195\n",
              "2015-01-05   8407.950195   8445.599609   8363.900391   8378.400391\n",
              "...                  ...           ...           ...           ...\n",
              "2018-12-20  10885.200195  10962.549805  10880.049805  10951.700195\n",
              "2018-12-21  10944.250000  10963.650391  10738.650391  10754.000000\n",
              "2018-12-24  10780.900391  10782.299805  10649.250000  10663.500000\n",
              "2018-12-26  10635.450195  10747.500000  10534.549805  10729.849609\n",
              "2018-12-27  10817.900391  10834.200195  10764.450195  10779.799805\n",
              "\n",
              "[982 rows x 4 columns]"
            ],
            "text/html": [
              "\n",
              "  <div id=\"df-562a8f32-136e-4e16-bdb9-bfc6f4eb04fb\">\n",
              "    <div class=\"colab-df-container\">\n",
              "      <div>\n",
              "<style scoped>\n",
              "    .dataframe tbody tr th:only-of-type {\n",
              "        vertical-align: middle;\n",
              "    }\n",
              "\n",
              "    .dataframe tbody tr th {\n",
              "        vertical-align: top;\n",
              "    }\n",
              "\n",
              "    .dataframe thead th {\n",
              "        text-align: right;\n",
              "    }\n",
              "</style>\n",
              "<table border=\"1\" class=\"dataframe\">\n",
              "  <thead>\n",
              "    <tr style=\"text-align: right;\">\n",
              "      <th></th>\n",
              "      <th>open</th>\n",
              "      <th>high</th>\n",
              "      <th>low</th>\n",
              "      <th>close</th>\n",
              "    </tr>\n",
              "  </thead>\n",
              "  <tbody>\n",
              "    <tr>\n",
              "      <th>2014-12-29</th>\n",
              "      <td>8214.700195</td>\n",
              "      <td>8279.150391</td>\n",
              "      <td>8214.700195</td>\n",
              "      <td>8246.299805</td>\n",
              "    </tr>\n",
              "    <tr>\n",
              "      <th>2014-12-30</th>\n",
              "      <td>8260.299805</td>\n",
              "      <td>8268.250000</td>\n",
              "      <td>8220.549805</td>\n",
              "      <td>8248.250000</td>\n",
              "    </tr>\n",
              "    <tr>\n",
              "      <th>2014-12-31</th>\n",
              "      <td>8243.900391</td>\n",
              "      <td>8291.000000</td>\n",
              "      <td>8243.750000</td>\n",
              "      <td>8282.700195</td>\n",
              "    </tr>\n",
              "    <tr>\n",
              "      <th>2015-01-02</th>\n",
              "      <td>8288.700195</td>\n",
              "      <td>8410.599609</td>\n",
              "      <td>8288.700195</td>\n",
              "      <td>8395.450195</td>\n",
              "    </tr>\n",
              "    <tr>\n",
              "      <th>2015-01-05</th>\n",
              "      <td>8407.950195</td>\n",
              "      <td>8445.599609</td>\n",
              "      <td>8363.900391</td>\n",
              "      <td>8378.400391</td>\n",
              "    </tr>\n",
              "    <tr>\n",
              "      <th>...</th>\n",
              "      <td>...</td>\n",
              "      <td>...</td>\n",
              "      <td>...</td>\n",
              "      <td>...</td>\n",
              "    </tr>\n",
              "    <tr>\n",
              "      <th>2018-12-20</th>\n",
              "      <td>10885.200195</td>\n",
              "      <td>10962.549805</td>\n",
              "      <td>10880.049805</td>\n",
              "      <td>10951.700195</td>\n",
              "    </tr>\n",
              "    <tr>\n",
              "      <th>2018-12-21</th>\n",
              "      <td>10944.250000</td>\n",
              "      <td>10963.650391</td>\n",
              "      <td>10738.650391</td>\n",
              "      <td>10754.000000</td>\n",
              "    </tr>\n",
              "    <tr>\n",
              "      <th>2018-12-24</th>\n",
              "      <td>10780.900391</td>\n",
              "      <td>10782.299805</td>\n",
              "      <td>10649.250000</td>\n",
              "      <td>10663.500000</td>\n",
              "    </tr>\n",
              "    <tr>\n",
              "      <th>2018-12-26</th>\n",
              "      <td>10635.450195</td>\n",
              "      <td>10747.500000</td>\n",
              "      <td>10534.549805</td>\n",
              "      <td>10729.849609</td>\n",
              "    </tr>\n",
              "    <tr>\n",
              "      <th>2018-12-27</th>\n",
              "      <td>10817.900391</td>\n",
              "      <td>10834.200195</td>\n",
              "      <td>10764.450195</td>\n",
              "      <td>10779.799805</td>\n",
              "    </tr>\n",
              "  </tbody>\n",
              "</table>\n",
              "<p>982 rows × 4 columns</p>\n",
              "</div>\n",
              "      <button class=\"colab-df-convert\" onclick=\"convertToInteractive('df-562a8f32-136e-4e16-bdb9-bfc6f4eb04fb')\"\n",
              "              title=\"Convert this dataframe to an interactive table.\"\n",
              "              style=\"display:none;\">\n",
              "        \n",
              "  <svg xmlns=\"http://www.w3.org/2000/svg\" height=\"24px\"viewBox=\"0 0 24 24\"\n",
              "       width=\"24px\">\n",
              "    <path d=\"M0 0h24v24H0V0z\" fill=\"none\"/>\n",
              "    <path d=\"M18.56 5.44l.94 2.06.94-2.06 2.06-.94-2.06-.94-.94-2.06-.94 2.06-2.06.94zm-11 1L8.5 8.5l.94-2.06 2.06-.94-2.06-.94L8.5 2.5l-.94 2.06-2.06.94zm10 10l.94 2.06.94-2.06 2.06-.94-2.06-.94-.94-2.06-.94 2.06-2.06.94z\"/><path d=\"M17.41 7.96l-1.37-1.37c-.4-.4-.92-.59-1.43-.59-.52 0-1.04.2-1.43.59L10.3 9.45l-7.72 7.72c-.78.78-.78 2.05 0 2.83L4 21.41c.39.39.9.59 1.41.59.51 0 1.02-.2 1.41-.59l7.78-7.78 2.81-2.81c.8-.78.8-2.07 0-2.86zM5.41 20L4 18.59l7.72-7.72 1.47 1.35L5.41 20z\"/>\n",
              "  </svg>\n",
              "      </button>\n",
              "      \n",
              "  <style>\n",
              "    .colab-df-container {\n",
              "      display:flex;\n",
              "      flex-wrap:wrap;\n",
              "      gap: 12px;\n",
              "    }\n",
              "\n",
              "    .colab-df-convert {\n",
              "      background-color: #E8F0FE;\n",
              "      border: none;\n",
              "      border-radius: 50%;\n",
              "      cursor: pointer;\n",
              "      display: none;\n",
              "      fill: #1967D2;\n",
              "      height: 32px;\n",
              "      padding: 0 0 0 0;\n",
              "      width: 32px;\n",
              "    }\n",
              "\n",
              "    .colab-df-convert:hover {\n",
              "      background-color: #E2EBFA;\n",
              "      box-shadow: 0px 1px 2px rgba(60, 64, 67, 0.3), 0px 1px 3px 1px rgba(60, 64, 67, 0.15);\n",
              "      fill: #174EA6;\n",
              "    }\n",
              "\n",
              "    [theme=dark] .colab-df-convert {\n",
              "      background-color: #3B4455;\n",
              "      fill: #D2E3FC;\n",
              "    }\n",
              "\n",
              "    [theme=dark] .colab-df-convert:hover {\n",
              "      background-color: #434B5C;\n",
              "      box-shadow: 0px 1px 3px 1px rgba(0, 0, 0, 0.15);\n",
              "      filter: drop-shadow(0px 1px 2px rgba(0, 0, 0, 0.3));\n",
              "      fill: #FFFFFF;\n",
              "    }\n",
              "  </style>\n",
              "\n",
              "      <script>\n",
              "        const buttonEl =\n",
              "          document.querySelector('#df-562a8f32-136e-4e16-bdb9-bfc6f4eb04fb button.colab-df-convert');\n",
              "        buttonEl.style.display =\n",
              "          google.colab.kernel.accessAllowed ? 'block' : 'none';\n",
              "\n",
              "        async function convertToInteractive(key) {\n",
              "          const element = document.querySelector('#df-562a8f32-136e-4e16-bdb9-bfc6f4eb04fb');\n",
              "          const dataTable =\n",
              "            await google.colab.kernel.invokeFunction('convertToInteractive',\n",
              "                                                     [key], {});\n",
              "          if (!dataTable) return;\n",
              "\n",
              "          const docLinkHtml = 'Like what you see? Visit the ' +\n",
              "            '<a target=\"_blank\" href=https://colab.research.google.com/notebooks/data_table.ipynb>data table notebook</a>'\n",
              "            + ' to learn more about interactive tables.';\n",
              "          element.innerHTML = '';\n",
              "          dataTable['output_type'] = 'display_data';\n",
              "          await google.colab.output.renderOutput(dataTable, element);\n",
              "          const docLink = document.createElement('div');\n",
              "          docLink.innerHTML = docLinkHtml;\n",
              "          element.appendChild(docLink);\n",
              "        }\n",
              "      </script>\n",
              "    </div>\n",
              "  </div>\n",
              "  "
            ]
          },
          "metadata": {},
          "execution_count": 6
        }
      ]
    },
    {
      "cell_type": "code",
      "source": [
        "import matplotlib.pyplot as plt\n",
        "\n",
        "# Plotting the open values\n",
        "plt.plot(nifty50_data.index, nifty50_data['open'])\n",
        "plt.title('NIFTY 50 Open Values')\n",
        "plt.xlabel('Date')\n",
        "plt.ylabel('Open Value')\n",
        "plt.show()"
      ],
      "metadata": {
        "colab": {
          "base_uri": "https://localhost:8080/",
          "height": 472
        },
        "id": "ypmNIosgvghO",
        "outputId": "fe68197a-3f3f-4730-a5bd-b0d14aedd3c5"
      },
      "execution_count": 7,
      "outputs": [
        {
          "output_type": "display_data",
          "data": {
            "text/plain": [
              "<Figure size 640x480 with 1 Axes>"
            ],
            "image/png": "[encoded data removed]"
          },
          "metadata": {}
        }
      ]
    },
    {
      "cell_type": "code",
      "source": [
        "start_date = datetime(2018, 12, 31)\n",
        "end_date = datetime(2020, 7, 31)\n",
        "\n",
        "test_data = si.get_data('^NSEI', start_date, end_date)"
      ],
      "metadata": {
        "id": "7DsESZH1vxa7"
      },
      "execution_count": 10,
      "outputs": []
    },
    {
      "cell_type": "code",
      "source": [
        "test_data=test_data.drop(columns=['adjclose','volume','ticker'])"
      ],
      "metadata": {
        "id": "FB4XqMUhv2cg"
      },
      "execution_count": 11,
      "outputs": []
    },
    {
      "cell_type": "code",
      "source": [
        "test_data=test_data.dropna()"
      ],
      "metadata": {
        "id": "tIZr3Pusv5Iz"
      },
      "execution_count": 12,
      "outputs": []
    },
    {
      "cell_type": "code",
      "source": [
        "test_data"
      ],
      "metadata": {
        "colab": {
          "base_uri": "https://localhost:8080/",
          "height": 423
        },
        "id": "XuKWbnZLv6h2",
        "outputId": "b4bae30b-455e-4e6c-fcd8-2e18d114f412"
      },
      "execution_count": 13,
      "outputs": [
        {
          "output_type": "execute_result",
          "data": {
            "text/plain": [
              "                    open          high           low         close\n",
              "2018-12-31  10913.200195  10923.549805  10853.200195  10862.549805\n",
              "2019-01-02  10868.849609  10895.349609  10735.049805  10792.500000\n",
              "2019-01-03  10796.799805  10814.049805  10661.250000  10672.250000\n",
              "2019-01-04  10699.700195  10741.049805  10628.650391  10727.349609\n",
              "2019-01-07  10804.849609  10835.950195  10750.150391  10771.799805\n",
              "...                  ...           ...           ...           ...\n",
              "2020-07-24  11149.950195  11225.400391  11090.299805  11194.150391\n",
              "2020-07-27  11225.000000  11225.000000  11087.849609  11131.799805\n",
              "2020-07-28  11154.099609  11317.750000  11151.400391  11300.549805\n",
              "2020-07-29  11276.900391  11341.400391  11149.750000  11202.849609\n",
              "2020-07-30  11254.299805  11299.950195  11084.950195  11102.150391\n",
              "\n",
              "[386 rows x 4 columns]"
            ],
            "text/html": [
              "\n",
              "  <div id=\"df-984e4cb6-c8fc-4dbb-851c-76ef80c8e43e\">\n",
              "    <div class=\"colab-df-container\">\n",
              "      <div>\n",
              "<style scoped>\n",
              "    .dataframe tbody tr th:only-of-type {\n",
              "        vertical-align: middle;\n",
              "    }\n",
              "\n",
              "    .dataframe tbody tr th {\n",
              "        vertical-align: top;\n",
              "    }\n",
              "\n",
              "    .dataframe thead th {\n",
              "        text-align: right;\n",
              "    }\n",
              "</style>\n",
              "<table border=\"1\" class=\"dataframe\">\n",
              "  <thead>\n",
              "    <tr style=\"text-align: right;\">\n",
              "      <th></th>\n",
              "      <th>open</th>\n",
              "      <th>high</th>\n",
              "      <th>low</th>\n",
              "      <th>close</th>\n",
              "    </tr>\n",
              "  </thead>\n",
              "  <tbody>\n",
              "    <tr>\n",
              "      <th>2018-12-31</th>\n",
              "      <td>10913.200195</td>\n",
              "      <td>10923.549805</td>\n",
              "      <td>10853.200195</td>\n",
              "      <td>10862.549805</td>\n",
              "    </tr>\n",
              "    <tr>\n",
              "      <th>2019-01-02</th>\n",
              "      <td>10868.849609</td>\n",
              "      <td>10895.349609</td>\n",
              "      <td>10735.049805</td>\n",
              "      <td>10792.500000</td>\n",
              "    </tr>\n",
              "    <tr>\n",
              "      <th>2019-01-03</th>\n",
              "      <td>10796.799805</td>\n",
              "      <td>10814.049805</td>\n",
              "      <td>10661.250000</td>\n",
              "      <td>10672.250000</td>\n",
              "    </tr>\n",
              "    <tr>\n",
              "      <th>2019-01-04</th>\n",
              "      <td>10699.700195</td>\n",
              "      <td>10741.049805</td>\n",
              "      <td>10628.650391</td>\n",
              "      <td>10727.349609</td>\n",
              "    </tr>\n",
              "    <tr>\n",
              "      <th>2019-01-07</th>\n",
              "      <td>10804.849609</td>\n",
              "      <td>10835.950195</td>\n",
              "      <td>10750.150391</td>\n",
              "      <td>10771.799805</td>\n",
              "    </tr>\n",
              "    <tr>\n",
              "      <th>...</th>\n",
              "      <td>...</td>\n",
              "      <td>...</td>\n",
              "      <td>...</td>\n",
              "      <td>...</td>\n",
              "    </tr>\n",
              "    <tr>\n",
              "      <th>2020-07-24</th>\n",
              "      <td>11149.950195</td>\n",
              "      <td>11225.400391</td>\n",
              "      <td>11090.299805</td>\n",
              "      <td>11194.150391</td>\n",
              "    </tr>\n",
              "    <tr>\n",
              "      <th>2020-07-27</th>\n",
              "      <td>11225.000000</td>\n",
              "      <td>11225.000000</td>\n",
              "      <td>11087.849609</td>\n",
              "      <td>11131.799805</td>\n",
              "    </tr>\n",
              "    <tr>\n",
              "      <th>2020-07-28</th>\n",
              "      <td>11154.099609</td>\n",
              "      <td>11317.750000</td>\n",
              "      <td>11151.400391</td>\n",
              "      <td>11300.549805</td>\n",
              "    </tr>\n",
              "    <tr>\n",
              "      <th>2020-07-29</th>\n",
              "      <td>11276.900391</td>\n",
              "      <td>11341.400391</td>\n",
              "      <td>11149.750000</td>\n",
              "      <td>11202.849609</td>\n",
              "    </tr>\n",
              "    <tr>\n",
              "      <th>2020-07-30</th>\n",
              "      <td>11254.299805</td>\n",
              "      <td>11299.950195</td>\n",
              "      <td>11084.950195</td>\n",
              "      <td>11102.150391</td>\n",
              "    </tr>\n",
              "  </tbody>\n",
              "</table>\n",
              "<p>386 rows × 4 columns</p>\n",
              "</div>\n",
              "      <button class=\"colab-df-convert\" onclick=\"convertToInteractive('df-984e4cb6-c8fc-4dbb-851c-76ef80c8e43e')\"\n",
              "              title=\"Convert this dataframe to an interactive table.\"\n",
              "              style=\"display:none;\">\n",
              "        \n",
              "  <svg xmlns=\"http://www.w3.org/2000/svg\" height=\"24px\"viewBox=\"0 0 24 24\"\n",
              "       width=\"24px\">\n",
              "    <path d=\"M0 0h24v24H0V0z\" fill=\"none\"/>\n",
              "    <path d=\"M18.56 5.44l.94 2.06.94-2.06 2.06-.94-2.06-.94-.94-2.06-.94 2.06-2.06.94zm-11 1L8.5 8.5l.94-2.06 2.06-.94-2.06-.94L8.5 2.5l-.94 2.06-2.06.94zm10 10l.94 2.06.94-2.06 2.06-.94-2.06-.94-.94-2.06-.94 2.06-2.06.94z\"/><path d=\"M17.41 7.96l-1.37-1.37c-.4-.4-.92-.59-1.43-.59-.52 0-1.04.2-1.43.59L10.3 9.45l-7.72 7.72c-.78.78-.78 2.05 0 2.83L4 21.41c.39.39.9.59 1.41.59.51 0 1.02-.2 1.41-.59l7.78-7.78 2.81-2.81c.8-.78.8-2.07 0-2.86zM5.41 20L4 18.59l7.72-7.72 1.47 1.35L5.41 20z\"/>\n",
              "  </svg>\n",
              "      </button>\n",
              "      \n",
              "  <style>\n",
              "    .colab-df-container {\n",
              "      display:flex;\n",
              "      flex-wrap:wrap;\n",
              "      gap: 12px;\n",
              "    }\n",
              "\n",
              "    .colab-df-convert {\n",
              "      background-color: #E8F0FE;\n",
              "      border: none;\n",
              "      border-radius: 50%;\n",
              "      cursor: pointer;\n",
              "      display: none;\n",
              "      fill: #1967D2;\n",
              "      height: 32px;\n",
              "      padding: 0 0 0 0;\n",
              "      width: 32px;\n",
              "    }\n",
              "\n",
              "    .colab-df-convert:hover {\n",
              "      background-color: #E2EBFA;\n",
              "      box-shadow: 0px 1px 2px rgba(60, 64, 67, 0.3), 0px 1px 3px 1px rgba(60, 64, 67, 0.15);\n",
              "      fill: #174EA6;\n",
              "    }\n",
              "\n",
              "    [theme=dark] .colab-df-convert {\n",
              "      background-color: #3B4455;\n",
              "      fill: #D2E3FC;\n",
              "    }\n",
              "\n",
              "    [theme=dark] .colab-df-convert:hover {\n",
              "      background-color: #434B5C;\n",
              "      box-shadow: 0px 1px 3px 1px rgba(0, 0, 0, 0.15);\n",
              "      filter: drop-shadow(0px 1px 2px rgba(0, 0, 0, 0.3));\n",
              "      fill: #FFFFFF;\n",
              "    }\n",
              "  </style>\n",
              "\n",
              "      <script>\n",
              "        const buttonEl =\n",
              "          document.querySelector('#df-984e4cb6-c8fc-4dbb-851c-76ef80c8e43e button.colab-df-convert');\n",
              "        buttonEl.style.display =\n",
              "          google.colab.kernel.accessAllowed ? 'block' : 'none';\n",
              "\n",
              "        async function convertToInteractive(key) {\n",
              "          const element = document.querySelector('#df-984e4cb6-c8fc-4dbb-851c-76ef80c8e43e');\n",
              "          const dataTable =\n",
              "            await google.colab.kernel.invokeFunction('convertToInteractive',\n",
              "                                                     [key], {});\n",
              "          if (!dataTable) return;\n",
              "\n",
              "          const docLinkHtml = 'Like what you see? Visit the ' +\n",
              "            '<a target=\"_blank\" href=https://colab.research.google.com/notebooks/data_table.ipynb>data table notebook</a>'\n",
              "            + ' to learn more about interactive tables.';\n",
              "          element.innerHTML = '';\n",
              "          dataTable['output_type'] = 'display_data';\n",
              "          await google.colab.output.renderOutput(dataTable, element);\n",
              "          const docLink = document.createElement('div');\n",
              "          docLink.innerHTML = docLinkHtml;\n",
              "          element.appendChild(docLink);\n",
              "        }\n",
              "      </script>\n",
              "    </div>\n",
              "  </div>\n",
              "  "
            ]
          },
          "metadata": {},
          "execution_count": 13
        }
      ]
    },
    {
      "cell_type": "code",
      "source": [
        "import numpy as np\n",
        "from numpy import split"
      ],
      "metadata": {
        "id": "ZEzfrIvGwOQE"
      },
      "execution_count": 14,
      "outputs": []
    },
    {
      "cell_type": "code",
      "source": [
        "nifty50_data.shape"
      ],
      "metadata": {
        "colab": {
          "base_uri": "https://localhost:8080/"
        },
        "id": "Fe3tJu9_wVjs",
        "outputId": "98765877-ee89-49c4-abfc-1d85dce82ee2"
      },
      "execution_count": 15,
      "outputs": [
        {
          "output_type": "execute_result",
          "data": {
            "text/plain": [
              "(982, 4)"
            ]
          },
          "metadata": {},
          "execution_count": 15
        }
      ]
    },
    {
      "cell_type": "code",
      "source": [
        "nifty50_data = nifty50_data.drop(nifty50_data.index[-2:])\n",
        "nifty50_data.shape"
      ],
      "metadata": {
        "colab": {
          "base_uri": "https://localhost:8080/"
        },
        "id": "tgVBJ9MywW-p",
        "outputId": "035ce7c9-985c-4144-9f94-239938aa5c12"
      },
      "execution_count": 16,
      "outputs": [
        {
          "output_type": "execute_result",
          "data": {
            "text/plain": [
              "(980, 4)"
            ]
          },
          "metadata": {},
          "execution_count": 16
        }
      ]
    },
    {
      "cell_type": "code",
      "source": [
        "test_data.shape"
      ],
      "metadata": {
        "colab": {
          "base_uri": "https://localhost:8080/"
        },
        "id": "QBmbE8z3wZ01",
        "outputId": "239d6993-7c17-47a6-f4bb-23a4a3447570"
      },
      "execution_count": 17,
      "outputs": [
        {
          "output_type": "execute_result",
          "data": {
            "text/plain": [
              "(386, 4)"
            ]
          },
          "metadata": {},
          "execution_count": 17
        }
      ]
    },
    {
      "cell_type": "code",
      "source": [
        "test_data = test_data.drop(test_data.index[-1])\n",
        "test_data.shape"
      ],
      "metadata": {
        "colab": {
          "base_uri": "https://localhost:8080/"
        },
        "id": "Hn5NpGP_wdIN",
        "outputId": "518dc663-fcf5-424c-e70a-e83728b85617"
      },
      "execution_count": 18,
      "outputs": [
        {
          "output_type": "execute_result",
          "data": {
            "text/plain": [
              "(385, 4)"
            ]
          },
          "metadata": {},
          "execution_count": 18
        }
      ]
    },
    {
      "cell_type": "code",
      "source": [
        "train=np.array(split(nifty50_data,len(nifty50_data)/5))"
      ],
      "metadata": {
        "id": "h0Y9KKB3wguR"
      },
      "execution_count": 19,
      "outputs": []
    },
    {
      "cell_type": "code",
      "source": [
        "train.shape"
      ],
      "metadata": {
        "colab": {
          "base_uri": "https://localhost:8080/"
        },
        "id": "heFBhTkoQfzr",
        "outputId": "de400404-645a-41bc-f1a3-af289b01555d"
      },
      "execution_count": 33,
      "outputs": [
        {
          "output_type": "execute_result",
          "data": {
            "text/plain": [
              "(196, 5, 4)"
            ]
          },
          "metadata": {},
          "execution_count": 33
        }
      ]
    },
    {
      "cell_type": "code",
      "source": [
        "test=np.array(split(test_data,len(test_data)/5))"
      ],
      "metadata": {
        "id": "R_1kcFN3wlBC"
      },
      "execution_count": 20,
      "outputs": []
    },
    {
      "cell_type": "code",
      "source": [
        "test.shape"
      ],
      "metadata": {
        "colab": {
          "base_uri": "https://localhost:8080/"
        },
        "id": "8wxeFW8iwwco",
        "outputId": "7e1d274b-b5ac-468b-fab0-5c81fc60015e"
      },
      "execution_count": 21,
      "outputs": [
        {
          "output_type": "execute_result",
          "data": {
            "text/plain": [
              "(77, 5, 4)"
            ]
          },
          "metadata": {},
          "execution_count": 21
        }
      ]
    },
    {
      "cell_type": "code",
      "source": [
        "from math import sqrt\n",
        "from numpy import array\n",
        "from sklearn.metrics import mean_squared_error\n",
        "from keras.models import Sequential\n",
        "from keras.layers import Dense\n",
        "from keras.layers import Flatten\n",
        "from keras.layers import LSTM\n",
        "from keras.layers import RepeatVector\n",
        "from keras.layers import TimeDistributed"
      ],
      "metadata": {
        "id": "tuSLZTMBwzbH"
      },
      "execution_count": 45,
      "outputs": []
    },
    {
      "cell_type": "code",
      "source": [
        "def evaluate_forecasts(actual, predicted):\n",
        " scores = list()\n",
        " for i in range(actual.shape[1]):\n",
        "     mse = mean_squared_error(actual[:, i], predicted[:, i])\n",
        "     rmse = sqrt(mse)\n",
        "     scores.append(rmse)\n",
        " s = 0\n",
        " for row in range(actual.shape[0]):\n",
        "     for col in range(actual.shape[1]):\n",
        "         s += (actual[row, col] - predicted[row, col])**2\n",
        " score = sqrt(s / (actual.shape[0] * actual.shape[1]))\n",
        " return score, scores"
      ],
      "metadata": {
        "id": "gnDZ0k0keFjL"
      },
      "execution_count": 44,
      "outputs": []
    },
    {
      "cell_type": "code",
      "source": [
        "def to_supervised(train, n_input, n_out=5):\n",
        " data = train.reshape((train.shape[0]*train.shape[1], train.shape[2]))\n",
        " X, y = list(), list()\n",
        " in_start = 0\n",
        " for _ in range(len(data)):\n",
        "    in_end = in_start + n_input\n",
        "    out_end = in_end + n_out\n",
        "    if out_end <= len(data):\n",
        "      x_input = data[in_start:in_end, 0]\n",
        "      x_input = x_input.reshape((len(x_input), 1))\n",
        "      X.append(x_input)\n",
        "      y.append(data[in_end:out_end, 0])\n",
        "    in_start += 1\n",
        " return array(X), array(y)\n",
        " "
      ],
      "metadata": {
        "id": "jLeTvOvSxakA"
      },
      "execution_count": 46,
      "outputs": []
    },
    {
      "cell_type": "code",
      "source": [
        "def build_model(train, n_input):\n",
        "\ttrain_x, train_y = to_supervised(train, n_input)\n",
        "\tverbose, epochs, batch_size = 0, 20, 16\n",
        "\tn_timesteps, n_features, n_outputs = train_x.shape[1], train_x.shape[2], train_y.shape[1]\n",
        "\ttrain_y = train_y.reshape((train_y.shape[0], train_y.shape[1], 1))\n",
        "\tmodel = Sequential()\n",
        "\tmodel.add(LSTM(200, activation='relu', input_shape=(n_timesteps, n_features)))\n",
        "\tmodel.add(RepeatVector(n_outputs))\n",
        "\tmodel.add(LSTM(200, activation='relu', return_sequences=True))\n",
        "\tmodel.add(TimeDistributed(Dense(100, activation='relu')))\n",
        "\tmodel.add(TimeDistributed(Dense(1)))\n",
        "\tmodel.compile(loss='mse', optimizer='adam')\n",
        "\tmodel.fit(train_x, train_y, epochs=epochs, batch_size=batch_size, verbose=verbose)\n",
        "\treturn model"
      ],
      "metadata": {
        "id": "gEAnRBnv5JPm"
      },
      "execution_count": 47,
      "outputs": []
    },
    {
      "cell_type": "code",
      "source": [
        "def forecast(model, history, n_input):\n",
        "\tdata = array(history)\n",
        "\tdata = data.reshape((data.shape[0]*data.shape[1], data.shape[2]))\n",
        "\tinput_x = data[-n_input:, 0]\n",
        "\tinput_x = input_x.reshape((1, len(input_x), 1))\n",
        "\tyhat = model.predict(input_x, verbose=0)\n",
        "\tyhat = yhat[0]\n",
        "\treturn yhat\n"
      ],
      "metadata": {
        "id": "sOToYTVu5S5L"
      },
      "execution_count": 48,
      "outputs": []
    },
    {
      "cell_type": "code",
      "source": [
        "def summarize_scores(name, score, scores):\n",
        "   s_scores = ', '.join(['%.1f' % s for s in scores])\n",
        "   print('%s (RMSE): [%.3f] %s' % (name, score, s_scores))\n",
        "   score2 = score/11070.59\n",
        "   #we are dividing by 11070.59 because it is the mean as reported in the paper\n",
        "   scores2 = [s / 11070.59 for s in scores]\n",
        "   s_scores2 = ', '.join(['%.3f' % s for s in scores2])\n",
        "   print('%s (RMSE/Mean): [%.3f] %s' % (name, score2, s_scores2))"
      ],
      "metadata": {
        "id": "vfIVESXj595v"
      },
      "execution_count": 42,
      "outputs": []
    },
    {
      "cell_type": "code",
      "source": [
        "def evaluate_model(train, test, n_input):\n",
        "\tmodel = build_model(train, n_input)\n",
        "\thistory = [x for x in train]\n",
        "\tpredictions = list()\n",
        "\tfor i in range(len(test)):\n",
        "\t\tyhat_sequence = forecast(model, history, n_input)\n",
        "\t\tpredictions.append(yhat_sequence)\n",
        "\t\thistory.append(test[i, :])\n",
        "\tpredictions = array(predictions)\n",
        "\tscore, scores = evaluate_forecasts(test[:, :, 0], predictions)\n",
        "\treturn score, scores"
      ],
      "metadata": {
        "id": "rjIBtBr95Vk-"
      },
      "execution_count": 49,
      "outputs": []
    },
    {
      "cell_type": "code",
      "source": [
        "n_input=10\n",
        "score, scores = evaluate_model(train, test, n_input)\n",
        "summarize_scores('lstm', score, scores)"
      ],
      "metadata": {
        "colab": {
          "base_uri": "https://localhost:8080/"
        },
        "id": "Mt6hCurs6G-V",
        "outputId": "481870eb-3c59-4503-aa07-bc3b4cb41b90"
      },
      "execution_count": 50,
      "outputs": [
        {
          "output_type": "stream",
          "name": "stdout",
          "text": [
            "lstm (RMSE): [404.403] 286.1, 368.2, 417.9, 439.2, 482.5\n",
            "lstm (RMSE/Mean): [0.037] 0.026, 0.033, 0.038, 0.040, 0.044\n"
          ]
        }
      ]
    }
  ]
}